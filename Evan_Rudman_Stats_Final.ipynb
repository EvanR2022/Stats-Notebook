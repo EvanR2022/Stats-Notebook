{
  "cells": [
    {
      "cell_type": "markdown",
      "metadata": {
        "id": "view-in-github",
        "colab_type": "text"
      },
      "source": [
        "<a href=\"https://colab.research.google.com/github/EvanR2022/Stats-Notebook/blob/main/Evan_Rudman_Stats_Final.ipynb\" target=\"_parent\"><img src=\"https://colab.research.google.com/assets/colab-badge.svg\" alt=\"Open In Colab\"/></a>"
      ]
    },
    {
      "cell_type": "markdown",
      "source": [
        "# STA 2023 Final Project\n",
        "## Directions:\n",
        "\n",
        "1) Replace the image dataset in the google slides with your own data.\n",
        "\n",
        "2) Comment and explain all code to the best of your ability.\n",
        "\n",
        "3) Run your model 3 times. \n",
        "\n",
        "4) Report best, worst, and average of the three runs. \n",
        "\n",
        "\n",
        "\n",
        "\n",
        "Use any and all resources available to you.\n",
        "\n",
        "Comment and explain the code.\n",
        "\n",
        "Answer the questions to the best of your abilities.\n",
        "\n",
        "If you have any questions, txt 561-479-8123\n",
        "\n",
        "Save this notebook to your GitHub and submit the link on Canvas\n"
      ],
      "metadata": {
        "id": "vU-T5aoAhMBC"
      }
    },
    {
      "cell_type": "code",
      "execution_count": 44,
      "metadata": {
        "id": "MJjTOJXQY7L2"
      },
      "outputs": [],
      "source": [
        "%%capture\n",
        "!pip install wandb\n",
        "!apt-get install poppler-utils #We imported all our programs needed to carry out our project.\n",
        "!pip install pdf2image\n",
        "!pip install flashtorch\n",
        "import requests\n",
        "from pdf2image import convert_from_path\n",
        "import matplotlib.pyplot as plt\n",
        "import numpy as np\n",
        "import torch\n",
        "import requests\n",
        "from torchvision import *\n",
        "from torchvision.models import *\n",
        "from flashtorch.utils import apply_transforms\n",
        "import wandb as wb"
      ]
    },
    {
      "cell_type": "code",
      "execution_count": 45,
      "metadata": {
        "id": "OcM-MSMRmAXL"
      },
      "outputs": [],
      "source": [
        "def GPU(data): #We defined multiple of our data features so the computer understands their meaning and value when we enter them.\n",
        "    return torch.tensor(data, requires_grad=True, dtype=torch.float, device=torch.device('cuda'))\n",
        "\n",
        "def GPU_data(data):\n",
        "    return torch.tensor(data, requires_grad=False, dtype=torch.float, device=torch.device('cuda'))\n",
        "\n",
        "def plot(x):\n",
        "    fig, ax = plt.subplots()\n",
        "    im = ax.imshow(x, cmap = 'gray')\n",
        "    ax.axis('off')\n",
        "    fig.set_size_inches(5, 5)\n",
        "    plt.show()\n",
        "    \n",
        "def get_google_slide(url):\n",
        "    url_head = \"https://docs.google.com/presentation/d/\"\n",
        "    url_body = url.split('/')[5]\n",
        "    page_id = url.split('.')[-1]\n",
        "    return url_head + url_body + \"/export/pdf?id=\" + url_body + \"&pageid=\" + page_id\n",
        "\n",
        "def get_slides(url):\n",
        "    url = get_google_slide(url)\n",
        "    r = requests.get(url, allow_redirects=True)\n",
        "    open('file.pdf', 'wb').write(r.content)\n",
        "    images = convert_from_path('file.pdf', 500)\n",
        "    return images\n",
        "\n",
        "def load(image):\n",
        "\n",
        "    return apply_transforms(image).clone().detach().requires_grad_(True).to(device)\n",
        "\n",
        "device = torch.device(\"cuda:0\" if torch.cuda.is_available() else \"cpu\")"
      ]
    },
    {
      "cell_type": "code",
      "execution_count": 46,
      "metadata": {
        "id": "opN3hI0lemBV"
      },
      "outputs": [],
      "source": [
        "labels = {int(key):value for (key, value) in requests.get('https://s3.amazonaws.com/mlpipes/pytorch-quick-start/labels.json').json().items()}\n",
        "\n",
        "model = alexnet(weights='DEFAULT').to(device) #We created the variable models and labels.\n",
        "model.eval();"
      ]
    },
    {
      "cell_type": "code",
      "execution_count": 47,
      "metadata": {
        "id": "2EnZVMTqiqwz"
      },
      "outputs": [],
      "source": [
        "url = \"https://docs.google.com/presentation/d/1FYzaWfu8LuClyitaqtqVl-LeA3pQuVL5snnmz0h99i8/edit#slide=id.g1a1a0952203_0_249\" #We imported our google slide of our project photos."
      ]
    },
    {
      "cell_type": "code",
      "execution_count": null,
      "metadata": {
        "id": "h7MhH8hrR3AE"
      },
      "outputs": [],
      "source": [
        "images = [] #We created the variable images and told the computer to list the photos from our dataset.\n",
        "\n",
        "for image in get_slides(url):\n",
        "\n",
        "    plot(image)\n",
        "\n",
        "    images.append(load(image))\n",
        "\n",
        "images = torch.vstack(images)"
      ]
    },
    {
      "cell_type": "code",
      "execution_count": 49,
      "metadata": {
        "colab": {
          "base_uri": "https://localhost:8080/"
        },
        "id": "uKsUVAPdQwmP",
        "outputId": "c463ecb5-24c0-443b-a36c-393f2dc1cf08"
      },
      "outputs": [
        {
          "output_type": "execute_result",
          "data": {
            "text/plain": [
              "torch.Size([50, 3, 224, 224])"
            ]
          },
          "metadata": {},
          "execution_count": 49
        }
      ],
      "source": [
        "images.shape #We asked for the shape of our images."
      ]
    },
    {
      "cell_type": "code",
      "execution_count": 50,
      "metadata": {
        "colab": {
          "base_uri": "https://localhost:8080/"
        },
        "id": "fJlgt1avR3I9",
        "outputId": "9e692d92-9014-4c23-c197-869b3238f894"
      },
      "outputs": [
        {
          "output_type": "execute_result",
          "data": {
            "text/plain": [
              "tensor([[-3.6159,  1.4465, -2.8118,  ..., -4.5261, -0.3944,  6.8728],\n",
              "        [-2.5897, -3.1742, -1.0269,  ..., -3.0363, -2.0790,  9.3937],\n",
              "        [ 0.1462, -1.9371, -1.7744,  ..., -0.5891, -1.7510,  5.1120],\n",
              "        ...,\n",
              "        [-3.0952, -0.4930,  1.4707,  ...,  3.6889,  2.0192,  6.7804],\n",
              "        [-3.5207, -4.1885, -1.7786,  ..., -2.9570, -0.2648,  8.8870],\n",
              "        [-1.9973, -3.2124, -1.7361,  ..., -2.0868, -0.0736,  6.8371]],\n",
              "       device='cuda:0', grad_fn=<AddmmBackward0>)"
            ]
          },
          "metadata": {},
          "execution_count": 50
        }
      ],
      "source": [
        "model(images) #We asked for a model data set of our images."
      ]
    },
    {
      "cell_type": "code",
      "execution_count": 51,
      "metadata": {
        "id": "lgGzMREYR3LN"
      },
      "outputs": [],
      "source": [
        "y = model(images) #We created the variable Y."
      ]
    },
    {
      "cell_type": "code",
      "execution_count": 52,
      "metadata": {
        "colab": {
          "base_uri": "https://localhost:8080/"
        },
        "id": "L3NVy8_7T_rb",
        "outputId": "43f4fb9d-a4bc-4565-e853-d6acb668620d"
      },
      "outputs": [
        {
          "output_type": "execute_result",
          "data": {
            "text/plain": [
              "torch.Size([50, 1000])"
            ]
          },
          "metadata": {},
          "execution_count": 52
        }
      ],
      "source": [
        "y.shape #We asked for the shape of Y."
      ]
    },
    {
      "cell_type": "code",
      "execution_count": 53,
      "metadata": {
        "id": "UsYfYT6UR3Nn"
      },
      "outputs": [],
      "source": [
        "guesses = torch.argmax(y, 1).cpu().numpy() #We created the variable guesses."
      ]
    },
    {
      "cell_type": "code",
      "execution_count": null,
      "metadata": {
        "id": "QvSec8rITW7T"
      },
      "outputs": [],
      "source": [
        "for i in list(guesses): #We told the computer to list all the guesses that it thinks our photos are.\n",
        "    print(labels[i])"
      ]
    },
    {
      "cell_type": "code",
      "execution_count": 55,
      "metadata": {
        "id": "CALvf79gjAY-"
      },
      "outputs": [],
      "source": [
        "Y = np.zeros(50,) #We gave Y a new value and asked for the value of Y at 25.\n",
        "Y[25:] = 1"
      ]
    },
    {
      "cell_type": "code",
      "execution_count": 56,
      "metadata": {
        "colab": {
          "base_uri": "https://localhost:8080/"
        },
        "id": "HSF3ICfP04kM",
        "outputId": "f73d8b11-8665-49a6-9f54-0706f2bb2c94"
      },
      "outputs": [
        {
          "output_type": "execute_result",
          "data": {
            "text/plain": [
              "array([0., 0., 0., 0., 0., 0., 0., 0., 0., 0., 0., 0., 0., 0., 0., 0., 0.,\n",
              "       0., 0., 0., 0., 0., 0., 0., 0., 1., 1., 1., 1., 1., 1., 1., 1., 1.,\n",
              "       1., 1., 1., 1., 1., 1., 1., 1., 1., 1., 1., 1., 1., 1., 1., 1.])"
            ]
          },
          "metadata": {},
          "execution_count": 56
        }
      ],
      "source": [
        "Y #We asked for the value of Y."
      ]
    },
    {
      "cell_type": "code",
      "execution_count": 57,
      "metadata": {
        "id": "ZqvMEcxhY6dl"
      },
      "outputs": [],
      "source": [
        "X = y.detach().cpu().numpy() #We created the variable X."
      ]
    },
    {
      "cell_type": "code",
      "execution_count": 58,
      "metadata": {
        "colab": {
          "base_uri": "https://localhost:8080/"
        },
        "id": "KqPB9TKyEJCS",
        "outputId": "29b13f56-1605-4282-e043-58e38eb71079"
      },
      "outputs": [
        {
          "output_type": "execute_result",
          "data": {
            "text/plain": [
              "(50, 1000)"
            ]
          },
          "metadata": {},
          "execution_count": 58
        }
      ],
      "source": [
        "X.shape #We asked for the shape of X."
      ]
    },
    {
      "cell_type": "code",
      "execution_count": 59,
      "metadata": {
        "colab": {
          "base_uri": "https://localhost:8080/",
          "height": 282
        },
        "id": "OB9J8q8LEgCG",
        "outputId": "d2e25cae-b5b7-47ee-e039-b2f1099c7a0e"
      },
      "outputs": [
        {
          "output_type": "execute_result",
          "data": {
            "text/plain": [
              "[<matplotlib.lines.Line2D at 0x7f0f7e06dac0>]"
            ]
          },
          "metadata": {},
          "execution_count": 59
        },
        {
          "output_type": "display_data",
          "data": {
            "text/plain": [
              "<Figure size 432x288 with 1 Axes>"
            ],
            "image/png": "[encoded data removed]"
          },
          "metadata": {
            "needs_background": "light"
          }
        }
      ],
      "source": [
        "plt.plot(X[0],'.') #We plotted X at 0."
      ]
    },
    {
      "cell_type": "code",
      "execution_count": null,
      "metadata": {
        "id": "_pfcg2h51IQr"
      },
      "outputs": [],
      "source": [
        "X[0] #We asked for the value of X at 0."
      ]
    },
    {
      "cell_type": "code",
      "execution_count": 61,
      "metadata": {
        "colab": {
          "base_uri": "https://localhost:8080/"
        },
        "id": "BaHI4-u_1O87",
        "outputId": "eb1ddd06-5e72-48d3-80dc-41b8903350c4"
      },
      "outputs": [
        {
          "output_type": "execute_result",
          "data": {
            "text/plain": [
              "861"
            ]
          },
          "metadata": {},
          "execution_count": 61
        }
      ],
      "source": [
        "np.argmax(X[0]) #We asked for the max of X at 0."
      ]
    },
    {
      "cell_type": "code",
      "execution_count": 62,
      "metadata": {
        "colab": {
          "base_uri": "https://localhost:8080/",
          "height": 35
        },
        "id": "lEJfAcaM2mdG",
        "outputId": "0282c836-93e7-4f4a-9225-a3cdcfb4d042"
      },
      "outputs": [
        {
          "output_type": "execute_result",
          "data": {
            "text/plain": [
              "'Granny Smith'"
            ],
            "application/vnd.google.colaboratory.intrinsic+json": {
              "type": "string"
            }
          },
          "metadata": {},
          "execution_count": 62
        }
      ],
      "source": [
        "labels[948] #We asked for the name of label 948."
      ]
    },
    {
      "cell_type": "code",
      "execution_count": 63,
      "metadata": {
        "id": "r3wq2fNM13K9"
      },
      "outputs": [],
      "source": [
        "top_ten = np.argsort(X[0])[::-1][0:10] #We created the variable, top_ten."
      ]
    },
    {
      "cell_type": "code",
      "execution_count": 64,
      "metadata": {
        "colab": {
          "base_uri": "https://localhost:8080/"
        },
        "id": "d3awGR9i18os",
        "outputId": "216b2ba3-0646-4f0c-8e12-5819eb313f7d"
      },
      "outputs": [
        {
          "output_type": "stream",
          "name": "stdout",
          "text": [
            "toilet seat\n",
            "face powder\n",
            "Petri dish\n",
            "washbasin, handbasin, washbowl, lavabo, wash-hand basin\n",
            "scale, weighing machine\n",
            "tray\n",
            "mouse, computer mouse\n",
            "bathing cap, swimming cap\n",
            "tub, vat\n",
            "modem\n"
          ]
        }
      ],
      "source": [
        "for i in top_ten: #We printed the top ten guesses of what are photos are of.\n",
        "    print(labels[i])"
      ]
    },
    {
      "cell_type": "code",
      "execution_count": null,
      "metadata": {
        "id": "SXOMKyB_1Zfa"
      },
      "outputs": [],
      "source": [
        "labels #We asked for the list of labels."
      ]
    },
    {
      "cell_type": "code",
      "execution_count": 66,
      "metadata": {
        "colab": {
          "base_uri": "https://localhost:8080/",
          "height": 352
        },
        "id": "cetMFwBQngCQ",
        "outputId": "42ccc2d7-ed73-404d-ef9b-ff0299647a11"
      },
      "outputs": [
        {
          "output_type": "execute_result",
          "data": {
            "text/plain": [
              "(array([ 15.,  78., 223., 269., 149.,  98.,  82.,  53.,  28.,   5.]),\n",
              " array([-10.262142 ,  -7.723369 ,  -5.1845965,  -2.6458235,  -0.1070507,\n",
              "          2.4317222,   4.970495 ,   7.509268 ,  10.04804  ,  12.586814 ,\n",
              "         15.1255865], dtype=float32),\n",
              " <a list of 10 Patch objects>)"
            ]
          },
          "metadata": {},
          "execution_count": 66
        },
        {
          "output_type": "display_data",
          "data": {
            "text/plain": [
              "<Figure size 432x288 with 1 Axes>"
            ],
            "image/png": "[encoded data removed]"
          },
          "metadata": {
            "needs_background": "light"
          }
        }
      ],
      "source": [
        "plt.hist(X[0]) #We plotted a histogram of X at 0."
      ]
    },
    {
      "cell_type": "code",
      "execution_count": 67,
      "metadata": {
        "id": "zBt4rsdIefV_"
      },
      "outputs": [],
      "source": [
        "X = GPU_data(X) #We gave the variable X and Y new values.\n",
        "Y = GPU_data(Y)"
      ]
    },
    {
      "cell_type": "code",
      "execution_count": 68,
      "metadata": {
        "id": "m4BlYG-CgC2z"
      },
      "outputs": [],
      "source": [
        "def softmax(x): #We defined softmax(x).\n",
        "    s1 = torch.exp(x - torch.max(x,1)[0][:,None])\n",
        "    s = s1 / s1.sum(1)[:,None]\n",
        "    return s"
      ]
    },
    {
      "cell_type": "code",
      "execution_count": 69,
      "metadata": {
        "id": "XZ-UV8W_c_9o"
      },
      "outputs": [],
      "source": [
        "def cross_entropy(outputs, labels):    #We defined cross_entropy.        \n",
        "    return -torch.sum(softmax(outputs).log()[range(outputs.size()[0]), labels.long()])/outputs.size()[0]  "
      ]
    },
    {
      "cell_type": "code",
      "execution_count": 70,
      "metadata": {
        "id": "wtL1kZcZICVP"
      },
      "outputs": [],
      "source": [
        "def randn_trunc(s): #Truncated Normal Random Numbers\n",
        "    mu = 0 \n",
        "    sigma = 0.1\n",
        "    R = stats.truncnorm((-2*sigma - mu) / sigma, (2*sigma - mu) / sigma, loc=mu, scale=sigma)\n",
        "    return R.rvs(s)"
      ]
    },
    {
      "cell_type": "code",
      "execution_count": 71,
      "metadata": {
        "id": "wPQjN4JwYHAz"
      },
      "outputs": [],
      "source": [
        "def Truncated_Normal(size): #We defined Truncated_Normal(size).\n",
        "\n",
        "    u1 = torch.rand(size)*(1-np.exp(-2)) + np.exp(-2)\n",
        "    u2 = torch.rand(size)\n",
        "    z  = torch.sqrt(-2*torch.log(u1)) * torch.cos(2*np.pi*u2)\n",
        "\n",
        "    return z"
      ]
    },
    {
      "cell_type": "code",
      "execution_count": 72,
      "metadata": {
        "id": "LW3ttVcq1sI9"
      },
      "outputs": [],
      "source": [
        "def acc(out,y): #We defined acc(out,y).\n",
        "    with torch.no_grad():\n",
        "        return (torch.sum(torch.max(out,1)[1] == y).item())/y.shape[0]"
      ]
    },
    {
      "cell_type": "code",
      "execution_count": 73,
      "metadata": {
        "colab": {
          "base_uri": "https://localhost:8080/"
        },
        "id": "5UXgio04fyvz",
        "outputId": "8e8df061-8f3a-48a0-a89a-3ec834472ac8"
      },
      "outputs": [
        {
          "output_type": "execute_result",
          "data": {
            "text/plain": [
              "torch.Size([50, 1000])"
            ]
          },
          "metadata": {},
          "execution_count": 73
        }
      ],
      "source": [
        "X.shape #We asked for the shape of X."
      ]
    },
    {
      "cell_type": "code",
      "execution_count": 74,
      "metadata": {
        "id": "x79Sie8XKPOC"
      },
      "outputs": [],
      "source": [
        "def get_batch(mode): #We defined get_batch(mode).\n",
        "    b = c.b\n",
        "    if mode == \"train\":\n",
        "        r = np.random.randint(X.shape[0]-b) \n",
        "        x = X[r:r+b,:]\n",
        "        y = Y[r:r+b]\n",
        "    elif mode == \"test\":\n",
        "        r = np.random.randint(X_test.shape[0]-b)\n",
        "        x = X_test[r:r+b,:]\n",
        "        y = Y_test[r:r+b]\n",
        "    return x,y"
      ]
    },
    {
      "cell_type": "code",
      "execution_count": 75,
      "metadata": {
        "id": "vXOr9aM8A8P-"
      },
      "outputs": [],
      "source": [
        "def model(x,w): #We defined model(x,w).\n",
        "\n",
        "    return x@w[0]"
      ]
    },
    {
      "cell_type": "code",
      "execution_count": 76,
      "metadata": {
        "id": "uzRsuDek9Fve"
      },
      "outputs": [],
      "source": [
        "def make_plots(): #We defined make_plots.\n",
        "    \n",
        "    acc_train = acc(model(x,w),y)\n",
        "    \n",
        "    # xt,yt = get_batch('test')\n",
        "\n",
        "    # acc_test = acc(model(xt,w),yt)\n",
        "\n",
        "    wb.log({\"acc_train\": acc_train})"
      ]
    },
    {
      "cell_type": "code",
      "execution_count": 79,
      "metadata": {
        "colab": {
          "base_uri": "https://localhost:8080/",
          "height": 432,
          "referenced_widgets": [
            "49763cac3190481ab56be27dea80e8bb",
            "6cecdc7d82ef4ed2b3f1f9cbfa698994",
            "77824fdbcbf049b49195a026add2792b",
            "5e65e280252d4fdca25168824618ccd8",
            "58872212c3374dfb91f06ab13afb1659",
            "41ff3bf04c0e42ecad436a6505feefef",
            "ba367edd7ecc49c99de854ff1d38c1fb",
            "79c66cd580144e6f868a50197d8149c0"
          ]
        },
        "id": "WANJibeUNghZ",
        "outputId": "204678a7-192a-467a-a176-64a811c11ac9"
      },
      "outputs": [
        {
          "output_type": "display_data",
          "data": {
            "text/plain": [
              "<IPython.core.display.HTML object>"
            ],
            "text/html": [
              "Finishing last run (ID:qwpemlab) before initializing another..."
            ]
          },
          "metadata": {}
        },
        {
          "output_type": "display_data",
          "data": {
            "text/plain": [
              "<IPython.core.display.HTML object>"
            ],
            "text/html": [
              "Waiting for W&B process to finish... <strong style=\"color:green\">(success).</strong>"
            ]
          },
          "metadata": {}
        },
        {
          "output_type": "display_data",
          "data": {
            "text/plain": [
              "VBox(children=(Label(value='0.001 MB of 0.001 MB uploaded (0.000 MB deduped)\\r'), FloatProgress(value=1.0, max…"
            ],
            "application/vnd.jupyter.widget-view+json": {
              "version_major": 2,
              "version_minor": 0,
              "model_id": "49763cac3190481ab56be27dea80e8bb"
            }
          },
          "metadata": {}
        },
        {
          "output_type": "display_data",
          "data": {
            "text/plain": [
              "<IPython.core.display.HTML object>"
            ],
            "text/html": [
              "<style>\n",
              "    table.wandb td:nth-child(1) { padding: 0 10px; text-align: left ; width: auto;} td:nth-child(2) {text-align: left ; width: 100%}\n",
              "    .wandb-row { display: flex; flex-direction: row; flex-wrap: wrap; justify-content: flex-start; width: 100% }\n",
              "    .wandb-col { display: flex; flex-direction: column; flex-basis: 100%; flex: 1; padding: 10px; }\n",
              "    </style>\n",
              "<div class=\"wandb-row\"><div class=\"wandb-col\"><h3>Run history:</h3><br/><table class=\"wandb\"><tr><td>acc_train</td><td>▁██▁███▁▁█▁▁█▁██▁████▁▁█▁█▁██▁▁▁▁███████</td></tr><tr><td>loss</td><td>█▁▁▅▁▁▁▅▅▁▅▅▁▅▁▁▅▁▁▁▁▅▅▁▅▁▅▁▁▅▅▅▅▁▁▁▁▁▁▁</td></tr></table><br/></div><div class=\"wandb-col\"><h3>Run summary:</h3><br/><table class=\"wandb\"><tr><td>acc_train</td><td>0.90625</td></tr><tr><td>loss</td><td>0.40701</td></tr></table><br/></div></div>"
            ]
          },
          "metadata": {}
        },
        {
          "output_type": "display_data",
          "data": {
            "text/plain": [
              "<IPython.core.display.HTML object>"
            ],
            "text/html": [
              "Synced <strong style=\"color:#cdcd00\">exalted-dawn-9</strong>: <a href=\"https://wandb.ai/evanr/Linear_Model_Photo_1/runs/qwpemlab\" target=\"_blank\">https://wandb.ai/evanr/Linear_Model_Photo_1/runs/qwpemlab</a><br/>Synced 5 W&B file(s), 0 media file(s), 0 artifact file(s) and 0 other file(s)"
            ]
          },
          "metadata": {}
        },
        {
          "output_type": "display_data",
          "data": {
            "text/plain": [
              "<IPython.core.display.HTML object>"
            ],
            "text/html": [
              "Find logs at: <code>./wandb/run-20221213_223710-qwpemlab/logs</code>"
            ]
          },
          "metadata": {}
        },
        {
          "output_type": "display_data",
          "data": {
            "text/plain": [
              "<IPython.core.display.HTML object>"
            ],
            "text/html": [
              "Successfully finished last run (ID:qwpemlab). Initializing new run:<br/>"
            ]
          },
          "metadata": {}
        },
        {
          "output_type": "display_data",
          "data": {
            "text/plain": [
              "<IPython.core.display.HTML object>"
            ],
            "text/html": [
              "Tracking run with wandb version 0.13.6"
            ]
          },
          "metadata": {}
        },
        {
          "output_type": "display_data",
          "data": {
            "text/plain": [
              "<IPython.core.display.HTML object>"
            ],
            "text/html": [
              "Run data is saved locally in <code>/content/wandb/run-20221213_223740-1uurs6x0</code>"
            ]
          },
          "metadata": {}
        },
        {
          "output_type": "display_data",
          "data": {
            "text/plain": [
              "<IPython.core.display.HTML object>"
            ],
            "text/html": [
              "Syncing run <strong><a href=\"https://wandb.ai/evanr/Linear_Model_Photo_1/runs/1uurs6x0\" target=\"_blank\">magic-dew-10</a></strong> to <a href=\"https://wandb.ai/evanr/Linear_Model_Photo_1\" target=\"_blank\">Weights & Biases</a> (<a href=\"https://wandb.me/run\" target=\"_blank\">docs</a>)<br/>"
            ]
          },
          "metadata": {}
        },
        {
          "output_type": "stream",
          "name": "stderr",
          "text": [
            "<ipython-input-45-0738e4875848>:2: UserWarning: To copy construct from a tensor, it is recommended to use sourceTensor.clone().detach() or sourceTensor.clone().detach().requires_grad_(True), rather than torch.tensor(sourceTensor).\n",
            "  return torch.tensor(data, requires_grad=True, dtype=torch.float, device=torch.device('cuda'))\n"
          ]
        }
      ],
      "source": [
        "wb.init(project=\"Linear_Model_Photo_1\"); #We imported the coding to run the weight and biases system to find the best guesses for our data.\n",
        "c = wb.config\n",
        "\n",
        "c.h = 0.001\n",
        "c.b = 32\n",
        "c.epochs = 100000\n",
        "\n",
        "w = [GPU(Truncated_Normal((1000,2)))]\n",
        "\n",
        "optimizer = torch.optim.Adam(w, lr=c.h)  \n",
        "\n",
        "for i in range(c.epochs):\n",
        "\n",
        "    x,y = get_batch('train')\n",
        "\n",
        "    loss = cross_entropy(softmax(model(x,w)),y)\n",
        "\n",
        "    optimizer.zero_grad()\n",
        "    loss.backward()\n",
        "    optimizer.step()\n",
        "   \n",
        "    wb.log({\"loss\": loss})\n",
        "\n",
        "    make_plots()\n"
      ]
    },
    {
      "cell_type": "markdown",
      "metadata": {
        "id": "sI--oRHS7Olk"
      },
      "source": [
        "https://tensorspace.org/"
      ]
    },
    {
      "cell_type": "markdown",
      "source": [
        "Best Run = 0.9252 Worst Run = 0.5021 Average = 0.7656 "
      ],
      "metadata": {
        "id": "iWLE5I3io2hq"
      }
    },
    {
      "cell_type": "code",
      "source": [
        "#We wrote the best,worst, and average of the runs."
      ],
      "metadata": {
        "id": "d4gmw09DqVnK"
      },
      "execution_count": 80,
      "outputs": []
    }
  ],
  "metadata": {
    "accelerator": "GPU",
    "colab": {
      "provenance": [],
      "include_colab_link": true
    },
    "gpuClass": "standard",
    "kernelspec": {
      "display_name": "Python 3",
      "name": "python3"
    },
    "language_info": {
      "name": "python"
    },
    "widgets": {
      "application/vnd.jupyter.widget-state+json": {
        "49763cac3190481ab56be27dea80e8bb": {
          "model_module": "@jupyter-widgets/controls",
          "model_name": "VBoxModel",
          "model_module_version": "1.5.0",
          "state": {
            "_dom_classes": [],
            "_model_module": "@jupyter-widgets/controls",
            "_model_module_version": "1.5.0",
            "_model_name": "VBoxModel",
            "_view_count": null,
            "_view_module": "@jupyter-widgets/controls",
            "_view_module_version": "1.5.0",
            "_view_name": "VBoxView",
            "box_style": "",
            "children": [
              "IPY_MODEL_6cecdc7d82ef4ed2b3f1f9cbfa698994",
              "IPY_MODEL_77824fdbcbf049b49195a026add2792b"
            ],
            "layout": "IPY_MODEL_5e65e280252d4fdca25168824618ccd8"
          }
        },
        "6cecdc7d82ef4ed2b3f1f9cbfa698994": {
          "model_module": "@jupyter-widgets/controls",
          "model_name": "LabelModel",
          "model_module_version": "1.5.0",
          "state": {
            "_dom_classes": [],
            "_model_module": "@jupyter-widgets/controls",
            "_model_module_version": "1.5.0",
            "_model_name": "LabelModel",
            "_view_count": null,
            "_view_module": "@jupyter-widgets/controls",
            "_view_module_version": "1.5.0",
            "_view_name": "LabelView",
            "description": "",
            "description_tooltip": null,
            "layout": "IPY_MODEL_58872212c3374dfb91f06ab13afb1659",
            "placeholder": "​",
            "style": "IPY_MODEL_41ff3bf04c0e42ecad436a6505feefef",
            "value": "0.001 MB of 0.009 MB uploaded (0.000 MB deduped)\r"
          }
        },
        "77824fdbcbf049b49195a026add2792b": {
          "model_module": "@jupyter-widgets/controls",
          "model_name": "FloatProgressModel",
          "model_module_version": "1.5.0",
          "state": {
            "_dom_classes": [],
            "_model_module": "@jupyter-widgets/controls",
            "_model_module_version": "1.5.0",
            "_model_name": "FloatProgressModel",
            "_view_count": null,
            "_view_module": "@jupyter-widgets/controls",
            "_view_module_version": "1.5.0",
            "_view_name": "ProgressView",
            "bar_style": "",
            "description": "",
            "description_tooltip": null,
            "layout": "IPY_MODEL_ba367edd7ecc49c99de854ff1d38c1fb",
            "max": 1,
            "min": 0,
            "orientation": "horizontal",
            "style": "IPY_MODEL_79c66cd580144e6f868a50197d8149c0",
            "value": 0.09208833619210978
          }
        },
        "5e65e280252d4fdca25168824618ccd8": {
          "model_module": "@jupyter-widgets/base",
          "model_name": "LayoutModel",
          "model_module_version": "1.2.0",
          "state": {
            "_model_module": "@jupyter-widgets/base",
            "_model_module_version": "1.2.0",
            "_model_name": "LayoutModel",
            "_view_count": null,
            "_view_module": "@jupyter-widgets/base",
            "_view_module_version": "1.2.0",
            "_view_name": "LayoutView",
            "align_content": null,
            "align_items": null,
            "align_self": null,
            "border": null,
            "bottom": null,
            "display": null,
            "flex": null,
            "flex_flow": null,
            "grid_area": null,
            "grid_auto_columns": null,
            "grid_auto_flow": null,
            "grid_auto_rows": null,
            "grid_column": null,
            "grid_gap": null,
            "grid_row": null,
            "grid_template_areas": null,
            "grid_template_columns": null,
            "grid_template_rows": null,
            "height": null,
            "justify_content": null,
            "justify_items": null,
            "left": null,
            "margin": null,
            "max_height": null,
            "max_width": null,
            "min_height": null,
            "min_width": null,
            "object_fit": null,
            "object_position": null,
            "order": null,
            "overflow": null,
            "overflow_x": null,
            "overflow_y": null,
            "padding": null,
            "right": null,
            "top": null,
            "visibility": null,
            "width": null
          }
        },
        "58872212c3374dfb91f06ab13afb1659": {
          "model_module": "@jupyter-widgets/base",
          "model_name": "LayoutModel",
          "model_module_version": "1.2.0",
          "state": {
            "_model_module": "@jupyter-widgets/base",
            "_model_module_version": "1.2.0",
            "_model_name": "LayoutModel",
            "_view_count": null,
            "_view_module": "@jupyter-widgets/base",
            "_view_module_version": "1.2.0",
            "_view_name": "LayoutView",
            "align_content": null,
            "align_items": null,
            "align_self": null,
            "border": null,
            "bottom": null,
            "display": null,
            "flex": null,
            "flex_flow": null,
            "grid_area": null,
            "grid_auto_columns": null,
            "grid_auto_flow": null,
            "grid_auto_rows": null,
            "grid_column": null,
            "grid_gap": null,
            "grid_row": null,
            "grid_template_areas": null,
            "grid_template_columns": null,
            "grid_template_rows": null,
            "height": null,
            "justify_content": null,
            "justify_items": null,
            "left": null,
            "margin": null,
            "max_height": null,
            "max_width": null,
            "min_height": null,
            "min_width": null,
            "object_fit": null,
            "object_position": null,
            "order": null,
            "overflow": null,
            "overflow_x": null,
            "overflow_y": null,
            "padding": null,
            "right": null,
            "top": null,
            "visibility": null,
            "width": null
          }
        },
        "41ff3bf04c0e42ecad436a6505feefef": {
          "model_module": "@jupyter-widgets/controls",
          "model_name": "DescriptionStyleModel",
          "model_module_version": "1.5.0",
          "state": {
            "_model_module": "@jupyter-widgets/controls",
            "_model_module_version": "1.5.0",
            "_model_name": "DescriptionStyleModel",
            "_view_count": null,
            "_view_module": "@jupyter-widgets/base",
            "_view_module_version": "1.2.0",
            "_view_name": "StyleView",
            "description_width": ""
          }
        },
        "ba367edd7ecc49c99de854ff1d38c1fb": {
          "model_module": "@jupyter-widgets/base",
          "model_name": "LayoutModel",
          "model_module_version": "1.2.0",
          "state": {
            "_model_module": "@jupyter-widgets/base",
            "_model_module_version": "1.2.0",
            "_model_name": "LayoutModel",
            "_view_count": null,
            "_view_module": "@jupyter-widgets/base",
            "_view_module_version": "1.2.0",
            "_view_name": "LayoutView",
            "align_content": null,
            "align_items": null,
            "align_self": null,
            "border": null,
            "bottom": null,
            "display": null,
            "flex": null,
            "flex_flow": null,
            "grid_area": null,
            "grid_auto_columns": null,
            "grid_auto_flow": null,
            "grid_auto_rows": null,
            "grid_column": null,
            "grid_gap": null,
            "grid_row": null,
            "grid_template_areas": null,
            "grid_template_columns": null,
            "grid_template_rows": null,
            "height": null,
            "justify_content": null,
            "justify_items": null,
            "left": null,
            "margin": null,
            "max_height": null,
            "max_width": null,
            "min_height": null,
            "min_width": null,
            "object_fit": null,
            "object_position": null,
            "order": null,
            "overflow": null,
            "overflow_x": null,
            "overflow_y": null,
            "padding": null,
            "right": null,
            "top": null,
            "visibility": null,
            "width": null
          }
        },
        "79c66cd580144e6f868a50197d8149c0": {
          "model_module": "@jupyter-widgets/controls",
          "model_name": "ProgressStyleModel",
          "model_module_version": "1.5.0",
          "state": {
            "_model_module": "@jupyter-widgets/controls",
            "_model_module_version": "1.5.0",
            "_model_name": "ProgressStyleModel",
            "_view_count": null,
            "_view_module": "@jupyter-widgets/base",
            "_view_module_version": "1.2.0",
            "_view_name": "StyleView",
            "bar_color": null,
            "description_width": ""
          }
        }
      }
    }
  },
  "nbformat": 4,
  "nbformat_minor": 0
}