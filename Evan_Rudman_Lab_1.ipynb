{
  "nbformat": 4,
  "nbformat_minor": 0,
  "metadata": {
    "colab": {
      "provenance": [],
      "collapsed_sections": [
        "MrkeAvsMw_BF",
        "2idjw9GfyU0u",
        "rD1fDR42ZOXJ"
      ],
      "authorship_tag": "ABX9TyNfJbqAy9h+9AovPGbNGuD9",
      "include_colab_link": true
    },
    "kernelspec": {
      "name": "python3",
      "display_name": "Python 3"
    },
    "language_info": {
      "name": "python"
    }
  },
  "cells": [
    {
      "cell_type": "markdown",
      "metadata": {
        "id": "view-in-github",
        "colab_type": "text"
      },
      "source": [
        "<a href=\"https://colab.research.google.com/github/EvanR2022/Stats-Notebook/blob/main/Evan_Rudman_Lab_1.ipynb\" target=\"_parent\"><img src=\"https://colab.research.google.com/assets/colab-badge.svg\" alt=\"Open In Colab\"/></a>"
      ]
    },
    {
      "cell_type": "markdown",
      "source": [
        "#Lab #1 Notebook \n",
        "\n",
        "\n"
      ],
      "metadata": {
        "id": "MrkeAvsMw_BF"
      }
    },
    {
      "cell_type": "code",
      "source": [
        "2+2 #We added two plus two to test the program."
      ],
      "metadata": {
        "colab": {
          "base_uri": "https://localhost:8080/"
        },
        "id": "LO2L0gaxxPDc",
        "outputId": "6aed6e45-7ff4-4f1d-94d0-6a4100b319ba"
      },
      "execution_count": 17,
      "outputs": [
        {
          "output_type": "execute_result",
          "data": {
            "text/plain": [
              "4"
            ]
          },
          "metadata": {},
          "execution_count": 17
        }
      ]
    },
    {
      "cell_type": "code",
      "source": [
        "2*24 #We multiplied two and twenty-four to test the program."
      ],
      "metadata": {
        "colab": {
          "base_uri": "https://localhost:8080/"
        },
        "id": "4gxRDA1Pxc4j",
        "outputId": "186f2545-f3df-4620-bc0c-6ef3e31176db"
      },
      "execution_count": 18,
      "outputs": [
        {
          "output_type": "execute_result",
          "data": {
            "text/plain": [
              "48"
            ]
          },
          "metadata": {},
          "execution_count": 18
        }
      ]
    },
    {
      "cell_type": "code",
      "source": [
        "2**8 #We found the value of two to the power of eight to test the program."
      ],
      "metadata": {
        "colab": {
          "base_uri": "https://localhost:8080/"
        },
        "id": "l5_klyDHxkcs",
        "outputId": "1448e5e3-08ce-454d-820f-b13b849b4671"
      },
      "execution_count": 19,
      "outputs": [
        {
          "output_type": "execute_result",
          "data": {
            "text/plain": [
              "256"
            ]
          },
          "metadata": {},
          "execution_count": 19
        }
      ]
    },
    {
      "cell_type": "code",
      "source": [
        "2**12345 #We found the value of two to the power of twelve thousand three hundred and fourty-five to test the program."
      ],
      "metadata": {
        "id": "aqRtz6NixklU"
      },
      "execution_count": null,
      "outputs": []
    },
    {
      "cell_type": "code",
      "source": [
        "4.7876 + 9.87654 #We added four point seven thousand eight hundred and seventy-six and two to test the program."
      ],
      "metadata": {
        "colab": {
          "base_uri": "https://localhost:8080/"
        },
        "id": "9AuKSblbxr-r",
        "outputId": "658b4b96-2407-4210-f690-044dd57243f8"
      },
      "execution_count": 21,
      "outputs": [
        {
          "output_type": "execute_result",
          "data": {
            "text/plain": [
              "14.66414"
            ]
          },
          "metadata": {},
          "execution_count": 21
        }
      ]
    },
    {
      "cell_type": "code",
      "source": [
        "4.7876 * 9.87654 #We multiplied four point seven thousand eight hundred and seventy-six and two to test the program."
      ],
      "metadata": {
        "colab": {
          "base_uri": "https://localhost:8080/"
        },
        "id": "dpPY5djOxw8E",
        "outputId": "3041972e-e297-427c-e9c1-dc6393a18fab"
      },
      "execution_count": 22,
      "outputs": [
        {
          "output_type": "execute_result",
          "data": {
            "text/plain": [
              "47.284922904000005"
            ]
          },
          "metadata": {},
          "execution_count": 22
        }
      ]
    },
    {
      "cell_type": "code",
      "source": [
        "4.7876 / 9.87654 #We divided four point seven thousand eight hundred and seventy-six and two to test the program."
      ],
      "metadata": {
        "colab": {
          "base_uri": "https://localhost:8080/"
        },
        "id": "nP9IyxsPx25E",
        "outputId": "4f07c5db-e980-4f60-b446-c137a992c90f"
      },
      "execution_count": 23,
      "outputs": [
        {
          "output_type": "execute_result",
          "data": {
            "text/plain": [
              "0.48474465754201373"
            ]
          },
          "metadata": {},
          "execution_count": 23
        }
      ]
    },
    {
      "cell_type": "code",
      "source": [
        "# This is a comment. #We tested the comment feature."
      ],
      "metadata": {
        "id": "i8dqZQp7x_Jc"
      },
      "execution_count": 24,
      "outputs": []
    },
    {
      "cell_type": "code",
      "source": [
        "8 / 4 #We divided eight by four to test the program. "
      ],
      "metadata": {
        "colab": {
          "base_uri": "https://localhost:8080/"
        },
        "id": "N4s-b5SAyDfb",
        "outputId": "6f6b222b-f355-445f-c575-37e46ae7ae3f"
      },
      "execution_count": 25,
      "outputs": [
        {
          "output_type": "execute_result",
          "data": {
            "text/plain": [
              "2.0"
            ]
          },
          "metadata": {},
          "execution_count": 25
        }
      ]
    },
    {
      "cell_type": "code",
      "source": [
        "8 // 4 #We divided eight by four with two dashes to get a non-decimal number."
      ],
      "metadata": {
        "colab": {
          "base_uri": "https://localhost:8080/"
        },
        "id": "uql_JPrByGgL",
        "outputId": "0c878656-2537-4b25-9fe9-94a48ee01f42"
      },
      "execution_count": 26,
      "outputs": [
        {
          "output_type": "execute_result",
          "data": {
            "text/plain": [
              "2"
            ]
          },
          "metadata": {},
          "execution_count": 26
        }
      ]
    },
    {
      "cell_type": "code",
      "source": [
        "13%12 #We used the percentage symbol to show that 13 is 1pm in military time."
      ],
      "metadata": {
        "colab": {
          "base_uri": "https://localhost:8080/"
        },
        "id": "CxwXed0SyJWb",
        "outputId": "382dc4bc-3fbc-4763-dff8-115ea5b304da"
      },
      "execution_count": 27,
      "outputs": [
        {
          "output_type": "execute_result",
          "data": {
            "text/plain": [
              "1"
            ]
          },
          "metadata": {},
          "execution_count": 27
        }
      ]
    },
    {
      "cell_type": "code",
      "source": [
        "22%12 #We used the percentage symbol to show that 13 is 1pm in military time."
      ],
      "metadata": {
        "colab": {
          "base_uri": "https://localhost:8080/"
        },
        "id": "NRq2f17VyOUr",
        "outputId": "31a97711-bc61-416f-f385-51aa59a63a4f"
      },
      "execution_count": 28,
      "outputs": [
        {
          "output_type": "execute_result",
          "data": {
            "text/plain": [
              "10"
            ]
          },
          "metadata": {},
          "execution_count": 28
        }
      ]
    },
    {
      "cell_type": "markdown",
      "source": [
        "# Variables"
      ],
      "metadata": {
        "id": "2idjw9GfyU0u"
      }
    },
    {
      "cell_type": "code",
      "source": [
        "apple = 5 #We used the word apple and associated it with the value, five, to test the variable feature on the program."
      ],
      "metadata": {
        "id": "3NNMtEALyXSM"
      },
      "execution_count": 29,
      "outputs": []
    },
    {
      "cell_type": "code",
      "source": [
        "apple #We typed the word apple to test that the value associated with it would pull up. "
      ],
      "metadata": {
        "colab": {
          "base_uri": "https://localhost:8080/"
        },
        "id": "MNju0hQPyj2v",
        "outputId": "3261870c-34e5-4f53-cd4b-4a6194f06426"
      },
      "execution_count": 30,
      "outputs": [
        {
          "output_type": "execute_result",
          "data": {
            "text/plain": [
              "5"
            ]
          },
          "metadata": {},
          "execution_count": 30
        }
      ]
    },
    {
      "cell_type": "code",
      "source": [
        "orange = 8 #We used the word orange and associated it with the value, eight, to test the variable feature on the program. "
      ],
      "metadata": {
        "id": "hngf661bym1O"
      },
      "execution_count": 31,
      "outputs": []
    },
    {
      "cell_type": "code",
      "source": [
        "orange #We typed the word apple to test that the value associated with it would pull up. "
      ],
      "metadata": {
        "colab": {
          "base_uri": "https://localhost:8080/"
        },
        "id": "fzvSgz6NzYE9",
        "outputId": "13a5b5fb-1010-4c84-901e-67e0c7faafe5"
      },
      "execution_count": 32,
      "outputs": [
        {
          "output_type": "execute_result",
          "data": {
            "text/plain": [
              "8"
            ]
          },
          "metadata": {},
          "execution_count": 32
        }
      ]
    },
    {
      "cell_type": "code",
      "source": [
        "apple + orange #We added our variables, apple and orange, to find their combined value."
      ],
      "metadata": {
        "colab": {
          "base_uri": "https://localhost:8080/"
        },
        "id": "QnEkLSYLywKs",
        "outputId": "53e895e6-3b57-4060-e185-176fc1a1d7e7"
      },
      "execution_count": 33,
      "outputs": [
        {
          "output_type": "execute_result",
          "data": {
            "text/plain": [
              "13"
            ]
          },
          "metadata": {},
          "execution_count": 33
        }
      ]
    },
    {
      "cell_type": "code",
      "source": [
        "total = apple + orange #We used the word total and associated it with the value of apple plus orange to test the variable feature on the program.  "
      ],
      "metadata": {
        "id": "E9wS4dFxyyQc"
      },
      "execution_count": 34,
      "outputs": []
    },
    {
      "cell_type": "code",
      "source": [
        "total #We typed the word total to test that the value associated with it would pull up. "
      ],
      "metadata": {
        "colab": {
          "base_uri": "https://localhost:8080/"
        },
        "id": "Nyo10JQAy6mM",
        "outputId": "d5b5c039-40df-4dc4-8fed-b979f87087b4"
      },
      "execution_count": 35,
      "outputs": [
        {
          "output_type": "execute_result",
          "data": {
            "text/plain": [
              "13"
            ]
          },
          "metadata": {},
          "execution_count": 35
        }
      ]
    },
    {
      "cell_type": "code",
      "source": [
        "apple**2 #We used the variable we created, apple, and squared it to test the program."
      ],
      "metadata": {
        "colab": {
          "base_uri": "https://localhost:8080/"
        },
        "id": "3Kjb1fcQzcps",
        "outputId": "c58d6e6e-1928-49c5-f4c5-477192b301ad"
      },
      "execution_count": 36,
      "outputs": [
        {
          "output_type": "execute_result",
          "data": {
            "text/plain": [
              "25"
            ]
          },
          "metadata": {},
          "execution_count": 36
        }
      ]
    },
    {
      "cell_type": "code",
      "source": [
        "cost_per_apple = 0.25 #We created a new variable, cost_per_apple, and defined its value as zero point twenty-five to test the variable feature on the program."
      ],
      "metadata": {
        "id": "LYBmR36Uzkuc"
      },
      "execution_count": 37,
      "outputs": []
    },
    {
      "cell_type": "code",
      "source": [
        "total_apple_cost = apple * cost_per_apple #We created a new variable, total_apple_cost, and defined its value as apple times cost_per_apple to test the variable feature on the program."
      ],
      "metadata": {
        "id": "HmoXPqCcz2b7"
      },
      "execution_count": 38,
      "outputs": []
    },
    {
      "cell_type": "code",
      "source": [
        "total_apple_cost #We typed the word total_apple_cost to test that the value associated with it would pull up. "
      ],
      "metadata": {
        "colab": {
          "base_uri": "https://localhost:8080/"
        },
        "id": "sLp_knqB0Dzb",
        "outputId": "abd4476f-e6a0-4a37-9fd0-99f776686f05"
      },
      "execution_count": 39,
      "outputs": [
        {
          "output_type": "execute_result",
          "data": {
            "text/plain": [
              "1.25"
            ]
          },
          "metadata": {},
          "execution_count": 39
        }
      ]
    },
    {
      "cell_type": "code",
      "source": [
        "shirt_cost = 25 #We created a new variable, shirt_cost, and defined its value as twenty-five to test the variable feature on the program."
      ],
      "metadata": {
        "id": "-Iqnx6Ra0dZ7"
      },
      "execution_count": 40,
      "outputs": []
    },
    {
      "cell_type": "code",
      "source": [
        "pants_cost = 45 #We created a new variable, shirt_cost, and defined its value as twenty-five to test the variable feature on the program."
      ],
      "metadata": {
        "id": "P-3PUZW20oF6"
      },
      "execution_count": 41,
      "outputs": []
    },
    {
      "cell_type": "code",
      "source": [
        "shoes_cost = 90 #We created a new variable, shoes_cost, and defined its value as ninety to test the variable feature on the program."
      ],
      "metadata": {
        "id": "yoN0VmCK0Qt7"
      },
      "execution_count": 42,
      "outputs": []
    },
    {
      "cell_type": "code",
      "source": [
        "shirts_sold = 12 #We created a new variable, shirts_sold, and defined its value as twelve to test the variable feature on the program."
      ],
      "metadata": {
        "id": "8-NSaZ6q0rB7"
      },
      "execution_count": 43,
      "outputs": []
    },
    {
      "cell_type": "code",
      "source": [
        "pants_sold = 15 #We created a new variable, pants_sold, and defined its value as fifteen to test the variable feature on the program."
      ],
      "metadata": {
        "id": "LHyJYDL90wMb"
      },
      "execution_count": 44,
      "outputs": []
    },
    {
      "cell_type": "code",
      "source": [
        "shoes_sold = 7 #We created a new variable, shoes_sold, and defined its value as seven to test the variable feature on the program."
      ],
      "metadata": {
        "id": "XSJA6Ax10z3q"
      },
      "execution_count": 45,
      "outputs": []
    },
    {
      "cell_type": "code",
      "source": [
        "total_sales = ( shirt_cost * shirts_sold ) + ( pants_cost * pants_sold ) + ( shoes_cost * shoes_sold ) #We created an equation using the variables we made to find the dollar amount of total sales that were made."
      ],
      "metadata": {
        "id": "_ezwOoGH03I7"
      },
      "execution_count": 46,
      "outputs": []
    },
    {
      "cell_type": "code",
      "source": [
        "total_sales #Note this is in dollars. #We found the value of our varible, total_sales."
      ],
      "metadata": {
        "colab": {
          "base_uri": "https://localhost:8080/"
        },
        "id": "PEWDHZNx1oMj",
        "outputId": "247e5e30-93a4-4863-90ba-8c50aa732aab"
      },
      "execution_count": 47,
      "outputs": [
        {
          "output_type": "execute_result",
          "data": {
            "text/plain": [
              "1605"
            ]
          },
          "metadata": {},
          "execution_count": 47
        }
      ]
    },
    {
      "cell_type": "markdown",
      "source": [
        "#Vectors"
      ],
      "metadata": {
        "id": "uuO8sRsR2miq"
      }
    },
    {
      "cell_type": "code",
      "source": [
        "import numpy as np #We imported a software called numpy."
      ],
      "metadata": {
        "id": "zFT6WuoA2pxN"
      },
      "execution_count": 48,
      "outputs": []
    },
    {
      "cell_type": "code",
      "source": [
        "import matplotlib.pyplot as plt #We imported a software called matplotlib."
      ],
      "metadata": {
        "id": "byLvBt2W3IoM"
      },
      "execution_count": 49,
      "outputs": []
    },
    {
      "cell_type": "code",
      "source": [
        "np.arange(10) #We used the software we imported to create an array of 10 numbers."
      ],
      "metadata": {
        "colab": {
          "base_uri": "https://localhost:8080/"
        },
        "id": "MmAOcLoZ4C7t",
        "outputId": "e17bf17e-2752-4acb-b205-e44030d1629a"
      },
      "execution_count": 50,
      "outputs": [
        {
          "output_type": "execute_result",
          "data": {
            "text/plain": [
              "array([0, 1, 2, 3, 4, 5, 6, 7, 8, 9])"
            ]
          },
          "metadata": {},
          "execution_count": 50
        }
      ]
    },
    {
      "cell_type": "code",
      "source": [
        "x = np.arange(10) #We created a new variable, x, and gave it a value."
      ],
      "metadata": {
        "id": "KKBD6yv34R1N"
      },
      "execution_count": 51,
      "outputs": []
    },
    {
      "cell_type": "code",
      "source": [
        "x #We typed in our variable, x, to check that it has the right value associated with it."
      ],
      "metadata": {
        "colab": {
          "base_uri": "https://localhost:8080/"
        },
        "id": "gExQfT1k4ffs",
        "outputId": "7fb4ceae-25a3-4d4e-fccd-7fcd073828d3"
      },
      "execution_count": 52,
      "outputs": [
        {
          "output_type": "execute_result",
          "data": {
            "text/plain": [
              "array([0, 1, 2, 3, 4, 5, 6, 7, 8, 9])"
            ]
          },
          "metadata": {},
          "execution_count": 52
        }
      ]
    },
    {
      "cell_type": "code",
      "source": [
        "x + 1 #We added our varible, x, to one and found its value."
      ],
      "metadata": {
        "colab": {
          "base_uri": "https://localhost:8080/"
        },
        "id": "LyZZiw7U4hun",
        "outputId": "12719ef5-ae06-4a12-9fdb-28e24d29ac21"
      },
      "execution_count": 53,
      "outputs": [
        {
          "output_type": "execute_result",
          "data": {
            "text/plain": [
              "array([ 1,  2,  3,  4,  5,  6,  7,  8,  9, 10])"
            ]
          },
          "metadata": {},
          "execution_count": 53
        }
      ]
    },
    {
      "cell_type": "code",
      "source": [
        "x*2 #We mulitplied our varible, x, by two."
      ],
      "metadata": {
        "colab": {
          "base_uri": "https://localhost:8080/"
        },
        "id": "EB96t0fB4hw8",
        "outputId": "f7f173a7-2950-4bd5-f972-aed133254625"
      },
      "execution_count": 54,
      "outputs": [
        {
          "output_type": "execute_result",
          "data": {
            "text/plain": [
              "array([ 0,  2,  4,  6,  8, 10, 12, 14, 16, 18])"
            ]
          },
          "metadata": {},
          "execution_count": 54
        }
      ]
    },
    {
      "cell_type": "code",
      "source": [
        "x**2 #We found the value of our variable, x, to the power of two."
      ],
      "metadata": {
        "colab": {
          "base_uri": "https://localhost:8080/"
        },
        "id": "k51yHKaI4iK1",
        "outputId": "54da4853-a372-4764-fc71-aab6441e45b9"
      },
      "execution_count": 55,
      "outputs": [
        {
          "output_type": "execute_result",
          "data": {
            "text/plain": [
              "array([ 0,  1,  4,  9, 16, 25, 36, 49, 64, 81])"
            ]
          },
          "metadata": {},
          "execution_count": 55
        }
      ]
    },
    {
      "cell_type": "code",
      "source": [
        "y = 3 * x + 5 #We created a new varible, y, and gave it the values of x times three plus five."
      ],
      "metadata": {
        "id": "QliF2OFP40P8"
      },
      "execution_count": 56,
      "outputs": []
    },
    {
      "cell_type": "code",
      "source": [
        "x #We doubled checked the value of our variable, x."
      ],
      "metadata": {
        "colab": {
          "base_uri": "https://localhost:8080/"
        },
        "id": "UGHfQwoo453t",
        "outputId": "d2b142bd-7ce1-4e93-fb90-4f770ba2b7be"
      },
      "execution_count": 57,
      "outputs": [
        {
          "output_type": "execute_result",
          "data": {
            "text/plain": [
              "array([0, 1, 2, 3, 4, 5, 6, 7, 8, 9])"
            ]
          },
          "metadata": {},
          "execution_count": 57
        }
      ]
    },
    {
      "cell_type": "code",
      "source": [
        "y #We doubled checked the value of our variable, y."
      ],
      "metadata": {
        "colab": {
          "base_uri": "https://localhost:8080/"
        },
        "id": "2XOdmEes4-3s",
        "outputId": "83f0b157-a807-45ae-9b1e-c7b4576209f3"
      },
      "execution_count": 58,
      "outputs": [
        {
          "output_type": "execute_result",
          "data": {
            "text/plain": [
              "array([ 5,  8, 11, 14, 17, 20, 23, 26, 29, 32])"
            ]
          },
          "metadata": {},
          "execution_count": 58
        }
      ]
    },
    {
      "cell_type": "code",
      "source": [
        "plt.plot(x,y) #We created a line graph of our variables, x and y."
      ],
      "metadata": {
        "colab": {
          "base_uri": "https://localhost:8080/",
          "height": 282
        },
        "id": "KPp3y4aA4_UM",
        "outputId": "71f23578-2439-4d4a-821a-93ae96d97d07"
      },
      "execution_count": 59,
      "outputs": [
        {
          "output_type": "execute_result",
          "data": {
            "text/plain": [
              "[<matplotlib.lines.Line2D at 0x7f4a348d5990>]"
            ]
          },
          "metadata": {},
          "execution_count": 59
        },
        {
          "output_type": "display_data",
          "data": {
            "text/plain": [
              "<Figure size 432x288 with 1 Axes>"
            ],
            "image/png": "[encoded data removed]"
          },
          "metadata": {
            "needs_background": "light"
          }
        }
      ]
    },
    {
      "cell_type": "code",
      "source": [
        "plt.plot(x,y,'.') #Explain all of this #We created a dot graph of our variables, x and y."
      ],
      "metadata": {
        "colab": {
          "base_uri": "https://localhost:8080/",
          "height": 282
        },
        "id": "K107xkjA5HJ2",
        "outputId": "b3750027-0959-4ccd-b434-195e5066bf4b"
      },
      "execution_count": 60,
      "outputs": [
        {
          "output_type": "execute_result",
          "data": {
            "text/plain": [
              "[<matplotlib.lines.Line2D at 0x7f4a348baa90>]"
            ]
          },
          "metadata": {},
          "execution_count": 60
        },
        {
          "output_type": "display_data",
          "data": {
            "text/plain": [
              "<Figure size 432x288 with 1 Axes>"
            ],
            "image/png": "[encoded data removed]"
          },
          "metadata": {
            "needs_background": "light"
          }
        }
      ]
    },
    {
      "cell_type": "code",
      "source": [
        "plt.plot(x,y,'r.') #We created a dot graph and typed r so the dots would be red."
      ],
      "metadata": {
        "colab": {
          "base_uri": "https://localhost:8080/",
          "height": 282
        },
        "id": "ZyHWBPj45HMV",
        "outputId": "08663149-2a89-4691-929d-7a8284be61e9"
      },
      "execution_count": 61,
      "outputs": [
        {
          "output_type": "execute_result",
          "data": {
            "text/plain": [
              "[<matplotlib.lines.Line2D at 0x7f4a34820e10>]"
            ]
          },
          "metadata": {},
          "execution_count": 61
        },
        {
          "output_type": "display_data",
          "data": {
            "text/plain": [
              "<Figure size 432x288 with 1 Axes>"
            ],
            "image/png": "[encoded data removed]"
          },
          "metadata": {
            "needs_background": "light"
          }
        }
      ]
    },
    {
      "cell_type": "code",
      "source": [
        "plt.plot(x,y,'r--') #We created a dash-lined graph and made the lines red."
      ],
      "metadata": {
        "colab": {
          "base_uri": "https://localhost:8080/",
          "height": 282
        },
        "id": "xnANBwlf5HOX",
        "outputId": "b1224899-2f50-435e-d3dc-77a7c15310de"
      },
      "execution_count": 62,
      "outputs": [
        {
          "output_type": "execute_result",
          "data": {
            "text/plain": [
              "[<matplotlib.lines.Line2D at 0x7f4a34792050>]"
            ]
          },
          "metadata": {},
          "execution_count": 62
        },
        {
          "output_type": "display_data",
          "data": {
            "text/plain": [
              "<Figure size 432x288 with 1 Axes>"
            ],
            "image/png": "[encoded data removed]"
          },
          "metadata": {
            "needs_background": "light"
          }
        }
      ]
    },
    {
      "cell_type": "code",
      "source": [
        "plt.plot(x,y,'m--') #We created a dash-lined graph and made the lines magenta."
      ],
      "metadata": {
        "colab": {
          "base_uri": "https://localhost:8080/",
          "height": 282
        },
        "id": "-83Iwvi16R6t",
        "outputId": "9545562a-1c86-48c6-d92d-d44fa631ffe7"
      },
      "execution_count": 63,
      "outputs": [
        {
          "output_type": "execute_result",
          "data": {
            "text/plain": [
              "[<matplotlib.lines.Line2D at 0x7f4a3477d290>]"
            ]
          },
          "metadata": {},
          "execution_count": 63
        },
        {
          "output_type": "display_data",
          "data": {
            "text/plain": [
              "<Figure size 432x288 with 1 Axes>"
            ],
            "image/png": "[encoded data removed]"
          },
          "metadata": {
            "needs_background": "light"
          }
        }
      ]
    },
    {
      "cell_type": "code",
      "source": [
        "plt.plot(x,y,'m.') #We created a dot graph and made the dots magenta."
      ],
      "metadata": {
        "colab": {
          "base_uri": "https://localhost:8080/",
          "height": 282
        },
        "id": "kVbrDWgg7QrP",
        "outputId": "e3ad3832-0116-4ce3-adc4-834eabc898f4"
      },
      "execution_count": 64,
      "outputs": [
        {
          "output_type": "execute_result",
          "data": {
            "text/plain": [
              "[<matplotlib.lines.Line2D at 0x7f4a346e34d0>]"
            ]
          },
          "metadata": {},
          "execution_count": 64
        },
        {
          "output_type": "display_data",
          "data": {
            "text/plain": [
              "<Figure size 432x288 with 1 Axes>"
            ],
            "image/png": "[encoded data removed]"
          },
          "metadata": {
            "needs_background": "light"
          }
        }
      ]
    },
    {
      "cell_type": "code",
      "source": [
        "  plt.plot(x,y,marker = 'o',\n",
        "            linestyle = 'None',\n",
        "            markerfacecolor='#57D91F') ##We created a specific dot graph and made the dots green."
      ],
      "metadata": {
        "colab": {
          "base_uri": "https://localhost:8080/",
          "height": 282
        },
        "id": "t80wRMLs7UB_",
        "outputId": "60a339c5-90a1-4ebb-e161-8f0d287a6b78"
      },
      "execution_count": 65,
      "outputs": [
        {
          "output_type": "execute_result",
          "data": {
            "text/plain": [
              "[<matplotlib.lines.Line2D at 0x7f4a346cb890>]"
            ]
          },
          "metadata": {},
          "execution_count": 65
        },
        {
          "output_type": "display_data",
          "data": {
            "text/plain": [
              "<Figure size 432x288 with 1 Axes>"
            ],
            "image/png": "[encoded data removed]"
          },
          "metadata": {
            "needs_background": "light"
          }
        }
      ]
    },
    {
      "cell_type": "code",
      "source": [
        "x = np.linspace(0,5,10) #We gave our varable, x, a new value."
      ],
      "metadata": {
        "id": "1fwpv_q88bRO"
      },
      "execution_count": 66,
      "outputs": []
    },
    {
      "cell_type": "code",
      "source": [
        "x #We double checked the value of our variable,x."
      ],
      "metadata": {
        "colab": {
          "base_uri": "https://localhost:8080/"
        },
        "id": "AcqOLFOT9oFN",
        "outputId": "7c582d63-a162-411a-855a-be9c8a2f61ec"
      },
      "execution_count": 67,
      "outputs": [
        {
          "output_type": "execute_result",
          "data": {
            "text/plain": [
              "array([0.        , 0.55555556, 1.11111111, 1.66666667, 2.22222222,\n",
              "       2.77777778, 3.33333333, 3.88888889, 4.44444444, 5.        ])"
            ]
          },
          "metadata": {},
          "execution_count": 67
        }
      ]
    },
    {
      "cell_type": "code",
      "source": [
        "x = np.linspace(0,10,100) #We gave our varable, x, a new value."
      ],
      "metadata": {
        "id": "UxsM3wW29oid"
      },
      "execution_count": 68,
      "outputs": []
    },
    {
      "cell_type": "code",
      "source": [
        "y = x**2 #We gave our varable, y, a new value."
      ],
      "metadata": {
        "id": "x44wBxHz94i_"
      },
      "execution_count": 69,
      "outputs": []
    },
    {
      "cell_type": "code",
      "source": [
        "x #We double checked the value of our variable,x."
      ],
      "metadata": {
        "id": "SRLEZ0qy-D0v"
      },
      "execution_count": null,
      "outputs": []
    },
    {
      "cell_type": "code",
      "source": [
        "y #We double checked the value of our variable,y."
      ],
      "metadata": {
        "id": "OS07rqAM-eYY"
      },
      "execution_count": null,
      "outputs": []
    },
    {
      "cell_type": "code",
      "source": [
        "plt.plot(x,y,marker = 'o',\n",
        "            linestyle = 'None',\n",
        "            markerfacecolor='#57D91F') #We created a dot graph of the new variables we created."
      ],
      "metadata": {
        "colab": {
          "base_uri": "https://localhost:8080/",
          "height": 282
        },
        "id": "QHEyyhM_99GP",
        "outputId": "ed85c879-5029-4f5d-eced-6935ef2a1698"
      },
      "execution_count": 72,
      "outputs": [
        {
          "output_type": "execute_result",
          "data": {
            "text/plain": [
              "[<matplotlib.lines.Line2D at 0x7f4a34644150>]"
            ]
          },
          "metadata": {},
          "execution_count": 72
        },
        {
          "output_type": "display_data",
          "data": {
            "text/plain": [
              "<Figure size 432x288 with 1 Axes>"
            ],
            "image/png": "[encoded data removed]"
          },
          "metadata": {
            "needs_background": "light"
          }
        }
      ]
    },
    {
      "cell_type": "code",
      "source": [
        "plt.plot(x,y,marker = 'o', linestyle = 'None',markerfacecolor='#57D91F') #We rearranged our code to fit it all onto one line."
      ],
      "metadata": {
        "colab": {
          "base_uri": "https://localhost:8080/",
          "height": 282
        },
        "id": "hr19xC90-e_e",
        "outputId": "cf6b0128-502f-4eee-d5af-bfe6f28abe02"
      },
      "execution_count": 73,
      "outputs": [
        {
          "output_type": "execute_result",
          "data": {
            "text/plain": [
              "[<matplotlib.lines.Line2D at 0x7f4a345a8b50>]"
            ]
          },
          "metadata": {},
          "execution_count": 73
        },
        {
          "output_type": "display_data",
          "data": {
            "text/plain": [
              "<Figure size 432x288 with 1 Axes>"
            ],
            "image/png": "[encoded data removed]"
          },
          "metadata": {
            "needs_background": "light"
          }
        }
      ]
    },
    {
      "cell_type": "code",
      "source": [
        "plt.plot(x,y,marker = 'o', linestyle = 'None',markerfacecolor='#57D91F') #We gave our dot graph the title, \"My First Graph\".\n",
        "plt.title(\"My First Graph\");\n",
        "\n",
        "\n",
        "\n"
      ],
      "metadata": {
        "colab": {
          "base_uri": "https://localhost:8080/",
          "height": 281
        },
        "id": "ELDMhsEU-pq_",
        "outputId": "34dc4df6-94e2-4de9-cf16-e265bed79b66"
      },
      "execution_count": 74,
      "outputs": [
        {
          "output_type": "display_data",
          "data": {
            "text/plain": [
              "<Figure size 432x288 with 1 Axes>"
            ],
            "image/png": "[encoded data removed]"
          },
          "metadata": {
            "needs_background": "light"
          }
        }
      ]
    },
    {
      "cell_type": "code",
      "source": [
        "plt.plot(x,y,marker = 'o', linestyle = 'None',markerfacecolor='#57D91F') #We labeled the x and y axis on our dot graph.\n",
        "plt.title(\"My First Graph\");\n",
        "plt.xlabel(\"X axis label goes here\")\n",
        "plt.ylabel(\"Y axis label goes here\")\n"
      ],
      "metadata": {
        "colab": {
          "base_uri": "https://localhost:8080/",
          "height": 312
        },
        "id": "TNpgfix__sRA",
        "outputId": "d1d4fd0e-bc65-4d64-a5dc-7f173f4c02a4"
      },
      "execution_count": 75,
      "outputs": [
        {
          "output_type": "execute_result",
          "data": {
            "text/plain": [
              "Text(0, 0.5, 'Y axis label goes here')"
            ]
          },
          "metadata": {},
          "execution_count": 75
        },
        {
          "output_type": "display_data",
          "data": {
            "text/plain": [
              "<Figure size 432x288 with 1 Axes>"
            ],
            "image/png": "[encoded data removed]"
          },
          "metadata": {
            "needs_background": "light"
          }
        }
      ]
    },
    {
      "cell_type": "code",
      "source": [
        "plt.plot(x,y,marker = 'o', linestyle = 'None',markerfacecolor='#57D91F') #We gave our dot graph a legend.\n",
        "plt.title(\"My First Graph\");\n",
        "plt.xlabel(\"X axis label goes here\")\n",
        "plt.ylabel(\"Y axis label goes here\")\n",
        "plt.legend()"
      ],
      "metadata": {
        "colab": {
          "base_uri": "https://localhost:8080/",
          "height": 330
        },
        "id": "cqKPfBXcAMWQ",
        "outputId": "6fce5f88-92bf-416b-cce9-a71621b99aa8"
      },
      "execution_count": 76,
      "outputs": [
        {
          "output_type": "stream",
          "name": "stderr",
          "text": [
            "WARNING:matplotlib.legend:No handles with labels found to put in legend.\n"
          ]
        },
        {
          "output_type": "execute_result",
          "data": {
            "text/plain": [
              "<matplotlib.legend.Legend at 0x7f4a347e64d0>"
            ]
          },
          "metadata": {},
          "execution_count": 76
        },
        {
          "output_type": "display_data",
          "data": {
            "text/plain": [
              "<Figure size 432x288 with 1 Axes>"
            ],
            "image/png": "[encoded data removed]"
          },
          "metadata": {
            "needs_background": "light"
          }
        }
      ]
    },
    {
      "cell_type": "code",
      "source": [
        "x = np.linspace(0,2,100) #We created a line graph with three different lines each with different labels and a legend to explain.\n",
        "plt.plot(x,x, label=\"linear\")\n",
        "plt.plot(x,x**2, label=\"squared\")\n",
        "plt.plot(x,x**3, label=\"cubed\")\n",
        "plt.legend()"
      ],
      "metadata": {
        "colab": {
          "base_uri": "https://localhost:8080/",
          "height": 282
        },
        "id": "WgnHKGLaBWFQ",
        "outputId": "8c5bf8ed-8487-45ad-b5e9-736a5003996e"
      },
      "execution_count": 77,
      "outputs": [
        {
          "output_type": "execute_result",
          "data": {
            "text/plain": [
              "<matplotlib.legend.Legend at 0x7f4a34877e90>"
            ]
          },
          "metadata": {},
          "execution_count": 77
        },
        {
          "output_type": "display_data",
          "data": {
            "text/plain": [
              "<Figure size 432x288 with 1 Axes>"
            ],
            "image/png": "[encoded data removed]"
          },
          "metadata": {
            "needs_background": "light"
          }
        }
      ]
    },
    {
      "cell_type": "code",
      "source": [
        "x = np.linspace(0,2,100) #We gave our lines on our line graph different shapes to represent each different line.\n",
        "plt.plot(x,x,    'r--', label=\"linear\")\n",
        "plt.plot(x,x**2, 'bs', label=\"squared\")\n",
        "plt.plot(x,x**3, 'g^' , label=\"cubed\")\n",
        "plt.legend()"
      ],
      "metadata": {
        "colab": {
          "base_uri": "https://localhost:8080/",
          "height": 282
        },
        "id": "WDiSkAN9Cc5x",
        "outputId": "b8cc101b-755c-4edb-9f94-e14f2e971f02"
      },
      "execution_count": 78,
      "outputs": [
        {
          "output_type": "execute_result",
          "data": {
            "text/plain": [
              "<matplotlib.legend.Legend at 0x7f4a34417090>"
            ]
          },
          "metadata": {},
          "execution_count": 78
        },
        {
          "output_type": "display_data",
          "data": {
            "text/plain": [
              "<Figure size 432x288 with 1 Axes>"
            ],
            "image/png": "[encoded data removed]"
          },
          "metadata": {
            "needs_background": "light"
          }
        }
      ]
    },
    {
      "cell_type": "code",
      "source": [
        "names = ['cat', 'dog', 'bird'] #We created a new variable, names, and gave it the value of cat, dog, and bird."
      ],
      "metadata": {
        "id": "cLSAIhVUEsmB"
      },
      "execution_count": 79,
      "outputs": []
    },
    {
      "cell_type": "code",
      "source": [
        "values = [15,18,6] #We created a new variable, values, and gave it the value of 15,18, and 6."
      ],
      "metadata": {
        "id": "MkS_jetVFmET"
      },
      "execution_count": 80,
      "outputs": []
    },
    {
      "cell_type": "code",
      "source": [
        "names #We double checked the value of our variable, names."
      ],
      "metadata": {
        "colab": {
          "base_uri": "https://localhost:8080/"
        },
        "id": "ltfZjCIqE7jx",
        "outputId": "dc68f88e-c57a-4791-973e-f82a50870943"
      },
      "execution_count": 81,
      "outputs": [
        {
          "output_type": "execute_result",
          "data": {
            "text/plain": [
              "['cat', 'dog', 'bird']"
            ]
          },
          "metadata": {},
          "execution_count": 81
        }
      ]
    },
    {
      "cell_type": "code",
      "source": [
        "values #We double checked the value of our variable, values."
      ],
      "metadata": {
        "colab": {
          "base_uri": "https://localhost:8080/"
        },
        "id": "Bl4wxsvgFsVD",
        "outputId": "e15f4318-c6eb-4102-ef81-732cfdba8c81"
      },
      "execution_count": 82,
      "outputs": [
        {
          "output_type": "execute_result",
          "data": {
            "text/plain": [
              "[15, 18, 6]"
            ]
          },
          "metadata": {},
          "execution_count": 82
        }
      ]
    },
    {
      "cell_type": "code",
      "source": [
        "names[0] #We double checked the value of our variable, names first value."
      ],
      "metadata": {
        "colab": {
          "base_uri": "https://localhost:8080/",
          "height": 35
        },
        "id": "QvMY9J0CE_FR",
        "outputId": "33ebca0b-757c-4798-d084-6bcf635ca4e8"
      },
      "execution_count": 83,
      "outputs": [
        {
          "output_type": "execute_result",
          "data": {
            "text/plain": [
              "'cat'"
            ],
            "application/vnd.google.colaboratory.intrinsic+json": {
              "type": "string"
            }
          },
          "metadata": {},
          "execution_count": 83
        }
      ]
    },
    {
      "cell_type": "code",
      "source": [
        "names[1] #We double checked the value of our variable, names second value."
      ],
      "metadata": {
        "colab": {
          "base_uri": "https://localhost:8080/",
          "height": 35
        },
        "id": "-jIpeBOxFBGB",
        "outputId": "8153d734-1e2a-42b1-ab4f-7b7f25eabea4"
      },
      "execution_count": 84,
      "outputs": [
        {
          "output_type": "execute_result",
          "data": {
            "text/plain": [
              "'dog'"
            ],
            "application/vnd.google.colaboratory.intrinsic+json": {
              "type": "string"
            }
          },
          "metadata": {},
          "execution_count": 84
        }
      ]
    },
    {
      "cell_type": "code",
      "source": [
        "names[2] #We double checked the value of our variable, names third value."
      ],
      "metadata": {
        "colab": {
          "base_uri": "https://localhost:8080/",
          "height": 35
        },
        "id": "xqiIQ2YqFCoR",
        "outputId": "150c38ab-91cc-4f64-869b-e5f027871088"
      },
      "execution_count": 85,
      "outputs": [
        {
          "output_type": "execute_result",
          "data": {
            "text/plain": [
              "'bird'"
            ],
            "application/vnd.google.colaboratory.intrinsic+json": {
              "type": "string"
            }
          },
          "metadata": {},
          "execution_count": 85
        }
      ]
    },
    {
      "cell_type": "code",
      "source": [
        "plt.figure(1,figsize=(10,10)) #We created a bar graph of our variables, names and values.\n",
        "plt.subplot(1,3,1)\n",
        "plt.bar(names,values)"
      ],
      "metadata": {
        "colab": {
          "base_uri": "https://localhost:8080/",
          "height": 609
        },
        "id": "kJjruXRtFErB",
        "outputId": "b489590b-8778-4093-a2c6-9399a47f48ea"
      },
      "execution_count": 86,
      "outputs": [
        {
          "output_type": "execute_result",
          "data": {
            "text/plain": [
              "<BarContainer object of 3 artists>"
            ]
          },
          "metadata": {},
          "execution_count": 86
        },
        {
          "output_type": "display_data",
          "data": {
            "text/plain": [
              "<Figure size 720x720 with 1 Axes>"
            ],
            "image/png": "[encoded data removed]"
          },
          "metadata": {
            "needs_background": "light"
          }
        }
      ]
    },
    {
      "cell_type": "code",
      "source": [
        "plt.figure(1,figsize=(3,3)) ##We created a bar graph, dot plot, and line graph of our variables, names and values.\n",
        "\n",
        "plt.subplot(1,3,1)\n",
        "plt.bar(names,values)\n",
        "\n",
        "plt.subplot(1,3,2)\n",
        "plt.scatter(names,values)\n",
        "\n",
        "plt.subplot(1,3,3)\n",
        "plt.plot(names,values)"
      ],
      "metadata": {
        "colab": {
          "base_uri": "https://localhost:8080/",
          "height": 228
        },
        "id": "kX73A6fWFxsQ",
        "outputId": "0c4b2e29-842f-4fad-91d5-97df807d5d25"
      },
      "execution_count": 87,
      "outputs": [
        {
          "output_type": "execute_result",
          "data": {
            "text/plain": [
              "[<matplotlib.lines.Line2D at 0x7f4a34278190>]"
            ]
          },
          "metadata": {},
          "execution_count": 87
        },
        {
          "output_type": "display_data",
          "data": {
            "text/plain": [
              "<Figure size 216x216 with 3 Axes>"
            ],
            "image/png": "[encoded data removed]"
          },
          "metadata": {
            "needs_background": "light"
          }
        }
      ]
    },
    {
      "cell_type": "code",
      "source": [
        "plt.figure(1,figsize=(3,3)) #We created a bar graph, dot plot, and line graph of our variables, names and values.\n",
        "\n",
        "plt.subplot(2,2,1)\n",
        "plt.bar(names,values)\n",
        "\n",
        "plt.subplot(2,2,2)\n",
        "plt.scatter(names,values)\n",
        "\n",
        "plt.subplot(2,2,3)\n",
        "plt.plot(names,values)\n",
        "\n",
        "plt.subplot(2,2,4)\n",
        "plt.plot(names,values)"
      ],
      "metadata": {
        "colab": {
          "base_uri": "https://localhost:8080/",
          "height": 228
        },
        "id": "3HuGFVklGVSV",
        "outputId": "1c3ba4f3-0ee4-4d83-85ac-ec90e2acb70a"
      },
      "execution_count": 88,
      "outputs": [
        {
          "output_type": "execute_result",
          "data": {
            "text/plain": [
              "[<matplotlib.lines.Line2D at 0x7f4a340d2e50>]"
            ]
          },
          "metadata": {},
          "execution_count": 88
        },
        {
          "output_type": "display_data",
          "data": {
            "text/plain": [
              "<Figure size 216x216 with 4 Axes>"
            ],
            "image/png": "[encoded data removed]"
          },
          "metadata": {
            "needs_background": "light"
          }
        }
      ]
    },
    {
      "cell_type": "markdown",
      "source": [
        "#Stats Notebook Lab #1"
      ],
      "metadata": {
        "id": "rD1fDR42ZOXJ"
      }
    },
    {
      "cell_type": "markdown",
      "source": [
        "<img src = \"https://upload.wikimedia.org/wikipedia/commons/thumb/e/e3/Oranges_-_whole-halved-segment.jpg/1200px-Oranges_-_whole-halved-segment.jpg\" width = 200>\n",
        "\n"
      ],
      "metadata": {
        "id": "qpbfzFTKa6Gb"
      }
    },
    {
      "cell_type": "code",
      "source": [
        "#We used a code to import a picture of a orange from google.\n"
      ],
      "metadata": {
        "id": "21CMYx374lDH"
      },
      "execution_count": 89,
      "outputs": []
    },
    {
      "cell_type": "markdown",
      "source": [
        "<img src = \"https://images.heb.com/is/image/HEBGrocery/000377497\" width = 200>"
      ],
      "metadata": {
        "id": "jEQuZc9ga_KY"
      }
    },
    {
      "cell_type": "code",
      "source": [
        "#We used a code to import a picture of a banana from google."
      ],
      "metadata": {
        "id": "EGEUWWYq4n7O"
      },
      "execution_count": 90,
      "outputs": []
    },
    {
      "cell_type": "markdown",
      "source": [
        "$\\frac{a}{b}$"
      ],
      "metadata": {
        "id": "6GXOonZrbJvJ"
      }
    },
    {
      "cell_type": "code",
      "source": [
        "#We used a code to show how to make fractions."
      ],
      "metadata": {
        "id": "4N8xp6kl4xbt"
      },
      "execution_count": 91,
      "outputs": []
    },
    {
      "cell_type": "markdown",
      "source": [
        "$a^{12345}$"
      ],
      "metadata": {
        "id": "MINb6FZjbzff"
      }
    },
    {
      "cell_type": "code",
      "source": [
        "#We used a code to show how to make variables with expotential values."
      ],
      "metadata": {
        "id": "f3mPp5O049TG"
      },
      "execution_count": 92,
      "outputs": []
    },
    {
      "cell_type": "markdown",
      "source": [
        "$a_b$"
      ],
      "metadata": {
        "id": "isvkzHTMdFnw"
      }
    },
    {
      "cell_type": "code",
      "source": [
        "#We used a code to show how to make variables with subscript values."
      ],
      "metadata": {
        "id": "uHoj7xT35DE2"
      },
      "execution_count": 93,
      "outputs": []
    },
    {
      "cell_type": "markdown",
      "source": [
        "$f(x) = \\frac{1}{\\sigma\\sqrt{2\\pi}}e^{-\\frac{1}{2}(\\frac{x-\\mu}{\\sigma})^2}$"
      ],
      "metadata": {
        "id": "Xezon0BVdVne"
      }
    },
    {
      "cell_type": "code",
      "source": [
        "#We used a code to show how to make formulas with fractions and exponents."
      ],
      "metadata": {
        "id": "2jSQEGUXdWpU"
      },
      "execution_count": 94,
      "outputs": []
    },
    {
      "cell_type": "markdown",
      "source": [
        "#Exercises"
      ],
      "metadata": {
        "id": "7iyLM2Ws0LlA"
      }
    },
    {
      "cell_type": "code",
      "source": [
        "import matplotlib.pyplot as plt\n",
        "import numpy as np"
      ],
      "metadata": {
        "id": "LblWDeAd2Giw"
      },
      "execution_count": 95,
      "outputs": []
    },
    {
      "cell_type": "code",
      "source": [
        "x = np.linspace(-10,10,1000)"
      ],
      "metadata": {
        "id": "1KbR5Wdyx_5j"
      },
      "execution_count": 96,
      "outputs": []
    },
    {
      "cell_type": "code",
      "source": [
        "y = 10*x + 7"
      ],
      "metadata": {
        "id": "PYZKdIdEyK4Z"
      },
      "execution_count": 97,
      "outputs": []
    },
    {
      "cell_type": "code",
      "source": [
        "y[0]"
      ],
      "metadata": {
        "colab": {
          "base_uri": "https://localhost:8080/"
        },
        "id": "C26kP8Eozley",
        "outputId": "781564a9-3ce9-4f5b-8644-f86b33522ae0"
      },
      "execution_count": 98,
      "outputs": [
        {
          "output_type": "execute_result",
          "data": {
            "text/plain": [
              "-93.0"
            ]
          },
          "metadata": {},
          "execution_count": 98
        }
      ]
    },
    {
      "cell_type": "code",
      "source": [
        "y = 10*x + 7"
      ],
      "metadata": {
        "id": "974sB7Jy0DSB"
      },
      "execution_count": 99,
      "outputs": []
    },
    {
      "cell_type": "code",
      "source": [
        "plt.plot(x,y, label='y = 10x +7')\n",
        "plt.title('Exercise 1',{'fontsize':20,'color':'blue'})\n",
        "plt.legend()"
      ],
      "metadata": {
        "colab": {
          "base_uri": "https://localhost:8080/",
          "height": 303
        },
        "id": "gdpjoXytyWKZ",
        "outputId": "182cc272-6b6c-4aa4-b0ba-7df167276ba6"
      },
      "execution_count": 100,
      "outputs": [
        {
          "output_type": "execute_result",
          "data": {
            "text/plain": [
              "<matplotlib.legend.Legend at 0x7f4a34097a10>"
            ]
          },
          "metadata": {},
          "execution_count": 100
        },
        {
          "output_type": "display_data",
          "data": {
            "text/plain": [
              "<Figure size 432x288 with 1 Axes>"
            ],
            "image/png": "[encoded data removed]"
          },
          "metadata": {
            "needs_background": "light"
          }
        }
      ]
    },
    {
      "cell_type": "code",
      "source": [
        "y = -3*x-12"
      ],
      "metadata": {
        "id": "0kZ_rAGW4Jl5"
      },
      "execution_count": 107,
      "outputs": []
    },
    {
      "cell_type": "code",
      "source": [
        "plt.plot(x,y, label='y = -3x - 12')\n",
        "plt.title('Exercise 2',{'fontsize':20,'color':'blue'})\n",
        "plt.legend()"
      ],
      "metadata": {
        "colab": {
          "base_uri": "https://localhost:8080/",
          "height": 303
        },
        "id": "2jAytZoI4Jox",
        "outputId": "2ca8ab45-8a1c-42a7-f12f-cf92de18878d"
      },
      "execution_count": 108,
      "outputs": [
        {
          "output_type": "execute_result",
          "data": {
            "text/plain": [
              "<matplotlib.legend.Legend at 0x7f4a34852090>"
            ]
          },
          "metadata": {},
          "execution_count": 108
        },
        {
          "output_type": "display_data",
          "data": {
            "text/plain": [
              "<Figure size 432x288 with 1 Axes>"
            ],
            "image/png": "[encoded data removed]"
          },
          "metadata": {
            "needs_background": "light"
          }
        }
      ]
    },
    {
      "cell_type": "code",
      "source": [
        "y = np.sin(x)"
      ],
      "metadata": {
        "id": "vBApkLRB4JrS"
      },
      "execution_count": 103,
      "outputs": []
    },
    {
      "cell_type": "code",
      "source": [
        "plt.plot(x,y, label='y = sin(x)')\n",
        "plt.title('Exercise 3',{'fontsize':20,'color':'blue'})\n",
        "plt.legend()"
      ],
      "metadata": {
        "colab": {
          "base_uri": "https://localhost:8080/",
          "height": 303
        },
        "id": "ks6GIhb14Jt4",
        "outputId": "cf1b02e7-9bdb-4b6a-d865-4eda7dac9176"
      },
      "execution_count": 106,
      "outputs": [
        {
          "output_type": "execute_result",
          "data": {
            "text/plain": [
              "<matplotlib.legend.Legend at 0x7f4a33c83310>"
            ]
          },
          "metadata": {},
          "execution_count": 106
        },
        {
          "output_type": "display_data",
          "data": {
            "text/plain": [
              "<Figure size 432x288 with 1 Axes>"
            ],
            "image/png": "[encoded data removed]"
          },
          "metadata": {
            "needs_background": "light"
          }
        }
      ]
    },
    {
      "cell_type": "code",
      "source": [
        "y = np.e**x"
      ],
      "metadata": {
        "id": "F5qF7aSQ4Jwf"
      },
      "execution_count": 109,
      "outputs": []
    },
    {
      "cell_type": "code",
      "source": [
        "plt.plot(x,y, label='$y = e^x$')\n",
        "plt.title('Exercise 4',{'fontsize':20,'color':'blue'})\n",
        "plt.legend()"
      ],
      "metadata": {
        "id": "N5y9b4QG6o3H",
        "outputId": "4d5c139c-e345-4ff1-eddc-2657799d3a1e",
        "colab": {
          "base_uri": "https://localhost:8080/",
          "height": 303
        }
      },
      "execution_count": 113,
      "outputs": [
        {
          "output_type": "execute_result",
          "data": {
            "text/plain": [
              "<matplotlib.legend.Legend at 0x7f4a3395fb10>"
            ]
          },
          "metadata": {},
          "execution_count": 113
        },
        {
          "output_type": "display_data",
          "data": {
            "text/plain": [
              "<Figure size 432x288 with 1 Axes>"
            ],
            "image/png": "[encoded data removed]"
          },
          "metadata": {
            "needs_background": "light"
          }
        }
      ]
    },
    {
      "cell_type": "code",
      "source": [
        "y = np.e ** ( - (x ** 2) )"
      ],
      "metadata": {
        "id": "ddsDH0Ym6we-"
      },
      "execution_count": 114,
      "outputs": []
    },
    {
      "cell_type": "code",
      "source": [
        "plt.plot(x,y, label='$y = e^{-x^2}$')\n",
        "plt.title('Exercise 5',{'fontsize':20,'color':'blue'})\n",
        "plt.legend()"
      ],
      "metadata": {
        "id": "-4Jw59_H7Roh",
        "outputId": "6b0dae7f-d2e5-4d5f-c538-95973b693d31",
        "colab": {
          "base_uri": "https://localhost:8080/",
          "height": 303
        }
      },
      "execution_count": 115,
      "outputs": [
        {
          "output_type": "execute_result",
          "data": {
            "text/plain": [
              "<matplotlib.legend.Legend at 0x7f4a339831d0>"
            ]
          },
          "metadata": {},
          "execution_count": 115
        },
        {
          "output_type": "display_data",
          "data": {
            "text/plain": [
              "<Figure size 432x288 with 1 Axes>"
            ],
            "image/png": "[encoded data removed]"
          },
          "metadata": {
            "needs_background": "light"
          }
        }
      ]
    }
  ]
}